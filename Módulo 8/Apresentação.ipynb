{
 "cells": [
  {
   "cell_type": "markdown",
   "metadata": {},
   "source": [
    "# Ferramentas Informáticas para Análise e Tratamento de Dados\n",
    "\n",
    "Aula no âmbito da UC Técnicas de Caracterização em Ciências e Tecnologias I (CFEFIC)\n",
    "\n",
    "Docente: Jorge Gustavo Rocha, jgr@di.uminho.pt\n",
    "\n",
    "Departamento de Informática, Universidade do minho\n",
    "\n",
    "Sessão online na plataforma [Zoom](https://videoconf-colibri.zoom.us/j/95273164628)\n",
    "\n",
    "### Sumário\n",
    "\n",
    "Nesta sessão faz-se uma introdução à programação (usando a linguagem Python) como uma atividade que nos permite:\n",
    "- documentar e programar ao mesmo tempo (notebooks)\n",
    "- guardar e gerir as versões do trabalho que se faz localmente (no github)\n",
    "- recolher dados de websites (web scraping e parsing com expressões regulares)\n",
    "- tratar e armazenar dados (base de dados)\n",
    "- explorar os dados armazenados (pandas + matplotlib)\n",
    "\n",
    "### Documentação\n",
    "\n",
    "Esta sessão está documentada vários notebooks:\n",
    "- Este notebook\n",
    "- Introdução aos notebooks\n",
    "- Extração de padrões de texto com expressões regulares\n",
    "- Recolha de dados de websites\n",
    "- Acesso a uma base de dados para registar os dados recolhidos\n",
    "- Explorar os dados recolhidos com Pandas + Matpotlib\n",
    "\n",
    "### Trabalho prévio\n",
    "\n",
    "Instalar o [Anaconda](https://www.anaconda.com/products/individual) para instalar o Python, o Jupyter e outros módulos. O Anaconda é um ecossitema Python com ferramentas próprias para gerir módulos adicionais.\n",
    "\n",
    "Instalar o [git](https://git-scm.com/book/en/v2/Getting-Started-Installing-Git).\n",
    "\n",
    "Criar conta no [github](https://github.com/).\n",
    "\n",
    "### Formato \n",
    "\n",
    "2h de apresentação\n",
    "\n",
    "2h práticas\n",
    "\n",
    "Avaliação\n",
    "\n",
    "Resolver os exercícios propostos nos notebooks."
   ]
  }
 ],
 "metadata": {
  "authors": [
   {
    "name": "Jorge Gustavo Rocha"
   }
  ],
  "kernelspec": {
   "display_name": "Python 3 (ipykernel)",
   "language": "python",
   "name": "python3"
  },
  "language_info": {
   "codemirror_mode": {
    "name": "ipython",
    "version": 3
   },
   "file_extension": ".py",
   "mimetype": "text/x-python",
   "name": "python",
   "nbconvert_exporter": "python",
   "pygments_lexer": "ipython3",
   "version": "3.10.6"
  },
  "vscode": {
   "interpreter": {
    "hash": "916dbcbb3f70747c44a77c7bcd40155683ae19c65e1c03b4aa3499c5328201f1"
   }
  }
 },
 "nbformat": 4,
 "nbformat_minor": 2
}
